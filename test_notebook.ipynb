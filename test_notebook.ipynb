{
 "metadata": {
  "language_info": {
   "codemirror_mode": {
    "name": "ipython",
    "version": 3
   },
   "file_extension": ".py",
   "mimetype": "text/x-python",
   "name": "python",
   "nbconvert_exporter": "python",
   "pygments_lexer": "ipython3",
   "version": "3.8.8"
  },
  "orig_nbformat": 4,
  "kernelspec": {
   "name": "python3",
   "display_name": "Python 3.8.8 64-bit ('base': conda)"
  },
  "interpreter": {
   "hash": "71031183235e2034b79c88f52d6d08538b0878082f2693f18429085641930c4c"
  }
 },
 "nbformat": 4,
 "nbformat_minor": 2,
 "cells": [
  {
   "cell_type": "code",
   "execution_count": 26,
   "metadata": {},
   "outputs": [],
   "source": [
    "import xarray as xr\n",
    "import glob\n",
    "import os\n",
    "from matplotlib import pyplot as plt\n",
    "from tsdat.utils import DSUtil\n"
   ]
  },
  {
   "cell_type": "code",
   "execution_count": 30,
   "metadata": {},
   "outputs": [
    {
     "output_type": "execute_result",
     "data": {
      "text/plain": [
       "['C:\\\\Users\\\\cott878\\\\OneDrive - PNNL\\\\Documents\\\\Projects\\\\Sequim Data LDRD\\\\tsdat_local\\\\storage\\\\root\\\\myhouse2\\\\myhouse2.noisynoise-matlab.a1\\\\myhouse2.noisynoise-matlab.a1.20210610.133346.nc']"
      ]
     },
     "metadata": {},
     "execution_count": 30
    }
   ],
   "source": [
    "folder = r'C:\\Users\\cott878\\OneDrive - PNNL\\Documents\\Projects\\Sequim Data LDRD\\tsdat_local\\storage\\root\\myhouse2\\myhouse2.noisynoise-matlab.a1'\n",
    "files = glob.glob(os.path.join(folder,'*.nc'))\n",
    "files"
   ]
  },
  {
   "cell_type": "code",
   "execution_count": 31,
   "metadata": {},
   "outputs": [],
   "source": [
    "dataset = xr.open_dataset(files[0])"
   ]
  },
  {
   "cell_type": "code",
   "execution_count": 32,
   "metadata": {},
   "outputs": [
    {
     "output_type": "execute_result",
     "data": {
      "text/plain": [
       "<xarray.DataArray 'mass' (time: 100)>\n",
       "array([5.162182, 5.794285, 5.311215, 5.528533, 5.165649, 5.601982, 5.262971,\n",
       "       5.654079, 5.689215, 5.748152, 5.450542, 5.083821, 5.228977, 5.913337,\n",
       "       5.152378, 5.825817, 5.538342, 5.996135, 5.078176, 5.442678, 5.106653,\n",
       "       5.961898, 5.004634, 5.77491 , 5.817303, 5.868695, 5.084436, 5.399783,\n",
       "       5.25987 , 5.800068, 5.431414, 5.910648, 5.181847, 5.263803, 5.145539,\n",
       "       5.136069, 5.869292, 5.579705, 5.54986 , 5.144955, 5.853031, 5.622055,\n",
       "       5.350952, 5.51325 , 5.401808, 5.075967, 5.239916, 5.123319, 5.183908,\n",
       "       5.239953, 5.417267, 5.049654, 5.902716, 5.944787, 5.490864, 5.489253,\n",
       "       5.337719, 5.900054, 5.369247, 5.111203, 5.780252, 5.389739, 5.241691,\n",
       "       5.403912, 5.096455, 5.131973, 5.942051, 5.956135, 5.575209, 5.05978 ,\n",
       "       5.23478 , 5.353159, 5.821194, 5.015403, 5.043024, 5.16899 , 5.649115,\n",
       "       5.731722, 5.647746, 5.450924, 5.547009, 5.296321, 5.744693, 5.188955,\n",
       "       5.686775, 5.183511, 5.368485, 5.625619, 5.780227, 5.081126, 5.929386,\n",
       "       5.775713, 5.486792, 5.435859, 5.446784, 5.306349, 5.508509, 5.510772,\n",
       "       5.817628, 5.794831])\n",
       "Coordinates:\n",
       "  * time     (time) datetime64[ns] 2021-06-10T13:33:46.100000 ... 2021-06-10T...\n",
       "Attributes:\n",
       "    long_name:           mass\n",
       "    description:         mass of the substance at the time\n",
       "    standard_name:       mass\n",
       "    units:               mg\n",
       "    correctionsapplied:  added 5 because why not"
      ],
      "text/html": "<div><svg style=\"position: absolute; width: 0; height: 0; overflow: hidden\">\n<defs>\n<symbol id=\"icon-database\" viewBox=\"0 0 32 32\">\n<path d=\"M16 0c-8.837 0-16 2.239-16 5v4c0 2.761 7.163 5 16 5s16-2.239 16-5v-4c0-2.761-7.163-5-16-5z\"></path>\n<path d=\"M16 17c-8.837 0-16-2.239-16-5v6c0 2.761 7.163 5 16 5s16-2.239 16-5v-6c0 2.761-7.163 5-16 5z\"></path>\n<path d=\"M16 26c-8.837 0-16-2.239-16-5v6c0 2.761 7.163 5 16 5s16-2.239 16-5v-6c0 2.761-7.163 5-16 5z\"></path>\n</symbol>\n<symbol id=\"icon-file-text2\" viewBox=\"0 0 32 32\">\n<path d=\"M28.681 7.159c-0.694-0.947-1.662-2.053-2.724-3.116s-2.169-2.030-3.116-2.724c-1.612-1.182-2.393-1.319-2.841-1.319h-15.5c-1.378 0-2.5 1.121-2.5 2.5v27c0 1.378 1.122 2.5 2.5 2.5h23c1.378 0 2.5-1.122 2.5-2.5v-19.5c0-0.448-0.137-1.23-1.319-2.841zM24.543 5.457c0.959 0.959 1.712 1.825 2.268 2.543h-4.811v-4.811c0.718 0.556 1.584 1.309 2.543 2.268zM28 29.5c0 0.271-0.229 0.5-0.5 0.5h-23c-0.271 0-0.5-0.229-0.5-0.5v-27c0-0.271 0.229-0.5 0.5-0.5 0 0 15.499-0 15.5 0v7c0 0.552 0.448 1 1 1h7v19.5z\"></path>\n<path d=\"M23 26h-14c-0.552 0-1-0.448-1-1s0.448-1 1-1h14c0.552 0 1 0.448 1 1s-0.448 1-1 1z\"></path>\n<path d=\"M23 22h-14c-0.552 0-1-0.448-1-1s0.448-1 1-1h14c0.552 0 1 0.448 1 1s-0.448 1-1 1z\"></path>\n<path d=\"M23 18h-14c-0.552 0-1-0.448-1-1s0.448-1 1-1h14c0.552 0 1 0.448 1 1s-0.448 1-1 1z\"></path>\n</symbol>\n</defs>\n</svg>\n<style>/* CSS stylesheet for displaying xarray objects in jupyterlab.\n *\n */\n\n:root {\n  --xr-font-color0: var(--jp-content-font-color0, rgba(0, 0, 0, 1));\n  --xr-font-color2: var(--jp-content-font-color2, rgba(0, 0, 0, 0.54));\n  --xr-font-color3: var(--jp-content-font-color3, rgba(0, 0, 0, 0.38));\n  --xr-border-color: var(--jp-border-color2, #e0e0e0);\n  --xr-disabled-color: var(--jp-layout-color3, #bdbdbd);\n  --xr-background-color: var(--jp-layout-color0, white);\n  --xr-background-color-row-even: var(--jp-layout-color1, white);\n  --xr-background-color-row-odd: var(--jp-layout-color2, #eeeeee);\n}\n\nhtml[theme=dark],\nbody.vscode-dark {\n  --xr-font-color0: rgba(255, 255, 255, 1);\n  --xr-font-color2: rgba(255, 255, 255, 0.54);\n  --xr-font-color3: rgba(255, 255, 255, 0.38);\n  --xr-border-color: #1F1F1F;\n  --xr-disabled-color: #515151;\n  --xr-background-color: #111111;\n  --xr-background-color-row-even: #111111;\n  --xr-background-color-row-odd: #313131;\n}\n\n.xr-wrap {\n  display: block;\n  min-width: 300px;\n  max-width: 700px;\n}\n\n.xr-text-repr-fallback {\n  /* fallback to plain text repr when CSS is not injected (untrusted notebook) */\n  display: none;\n}\n\n.xr-header {\n  padding-top: 6px;\n  padding-bottom: 6px;\n  margin-bottom: 4px;\n  border-bottom: solid 1px var(--xr-border-color);\n}\n\n.xr-header > div,\n.xr-header > ul {\n  display: inline;\n  margin-top: 0;\n  margin-bottom: 0;\n}\n\n.xr-obj-type,\n.xr-array-name {\n  margin-left: 2px;\n  margin-right: 10px;\n}\n\n.xr-obj-type {\n  color: var(--xr-font-color2);\n}\n\n.xr-sections {\n  padding-left: 0 !important;\n  display: grid;\n  grid-template-columns: 150px auto auto 1fr 20px 20px;\n}\n\n.xr-section-item {\n  display: contents;\n}\n\n.xr-section-item input {\n  display: none;\n}\n\n.xr-section-item input + label {\n  color: var(--xr-disabled-color);\n}\n\n.xr-section-item input:enabled + label {\n  cursor: pointer;\n  color: var(--xr-font-color2);\n}\n\n.xr-section-item input:enabled + label:hover {\n  color: var(--xr-font-color0);\n}\n\n.xr-section-summary {\n  grid-column: 1;\n  color: var(--xr-font-color2);\n  font-weight: 500;\n}\n\n.xr-section-summary > span {\n  display: inline-block;\n  padding-left: 0.5em;\n}\n\n.xr-section-summary-in:disabled + label {\n  color: var(--xr-font-color2);\n}\n\n.xr-section-summary-in + label:before {\n  display: inline-block;\n  content: '►';\n  font-size: 11px;\n  width: 15px;\n  text-align: center;\n}\n\n.xr-section-summary-in:disabled + label:before {\n  color: var(--xr-disabled-color);\n}\n\n.xr-section-summary-in:checked + label:before {\n  content: '▼';\n}\n\n.xr-section-summary-in:checked + label > span {\n  display: none;\n}\n\n.xr-section-summary,\n.xr-section-inline-details {\n  padding-top: 4px;\n  padding-bottom: 4px;\n}\n\n.xr-section-inline-details {\n  grid-column: 2 / -1;\n}\n\n.xr-section-details {\n  display: none;\n  grid-column: 1 / -1;\n  margin-bottom: 5px;\n}\n\n.xr-section-summary-in:checked ~ .xr-section-details {\n  display: contents;\n}\n\n.xr-array-wrap {\n  grid-column: 1 / -1;\n  display: grid;\n  grid-template-columns: 20px auto;\n}\n\n.xr-array-wrap > label {\n  grid-column: 1;\n  vertical-align: top;\n}\n\n.xr-preview {\n  color: var(--xr-font-color3);\n}\n\n.xr-array-preview,\n.xr-array-data {\n  padding: 0 5px !important;\n  grid-column: 2;\n}\n\n.xr-array-data,\n.xr-array-in:checked ~ .xr-array-preview {\n  display: none;\n}\n\n.xr-array-in:checked ~ .xr-array-data,\n.xr-array-preview {\n  display: inline-block;\n}\n\n.xr-dim-list {\n  display: inline-block !important;\n  list-style: none;\n  padding: 0 !important;\n  margin: 0;\n}\n\n.xr-dim-list li {\n  display: inline-block;\n  padding: 0;\n  margin: 0;\n}\n\n.xr-dim-list:before {\n  content: '(';\n}\n\n.xr-dim-list:after {\n  content: ')';\n}\n\n.xr-dim-list li:not(:last-child):after {\n  content: ',';\n  padding-right: 5px;\n}\n\n.xr-has-index {\n  font-weight: bold;\n}\n\n.xr-var-list,\n.xr-var-item {\n  display: contents;\n}\n\n.xr-var-item > div,\n.xr-var-item label,\n.xr-var-item > .xr-var-name span {\n  background-color: var(--xr-background-color-row-even);\n  margin-bottom: 0;\n}\n\n.xr-var-item > .xr-var-name:hover span {\n  padding-right: 5px;\n}\n\n.xr-var-list > li:nth-child(odd) > div,\n.xr-var-list > li:nth-child(odd) > label,\n.xr-var-list > li:nth-child(odd) > .xr-var-name span {\n  background-color: var(--xr-background-color-row-odd);\n}\n\n.xr-var-name {\n  grid-column: 1;\n}\n\n.xr-var-dims {\n  grid-column: 2;\n}\n\n.xr-var-dtype {\n  grid-column: 3;\n  text-align: right;\n  color: var(--xr-font-color2);\n}\n\n.xr-var-preview {\n  grid-column: 4;\n}\n\n.xr-var-name,\n.xr-var-dims,\n.xr-var-dtype,\n.xr-preview,\n.xr-attrs dt {\n  white-space: nowrap;\n  overflow: hidden;\n  text-overflow: ellipsis;\n  padding-right: 10px;\n}\n\n.xr-var-name:hover,\n.xr-var-dims:hover,\n.xr-var-dtype:hover,\n.xr-attrs dt:hover {\n  overflow: visible;\n  width: auto;\n  z-index: 1;\n}\n\n.xr-var-attrs,\n.xr-var-data {\n  display: none;\n  background-color: var(--xr-background-color) !important;\n  padding-bottom: 5px !important;\n}\n\n.xr-var-attrs-in:checked ~ .xr-var-attrs,\n.xr-var-data-in:checked ~ .xr-var-data {\n  display: block;\n}\n\n.xr-var-data > table {\n  float: right;\n}\n\n.xr-var-name span,\n.xr-var-data,\n.xr-attrs {\n  padding-left: 25px !important;\n}\n\n.xr-attrs,\n.xr-var-attrs,\n.xr-var-data {\n  grid-column: 1 / -1;\n}\n\ndl.xr-attrs {\n  padding: 0;\n  margin: 0;\n  display: grid;\n  grid-template-columns: 125px auto;\n}\n\n.xr-attrs dt,\n.xr-attrs dd {\n  padding: 0;\n  margin: 0;\n  float: left;\n  padding-right: 10px;\n  width: auto;\n}\n\n.xr-attrs dt {\n  font-weight: normal;\n  grid-column: 1;\n}\n\n.xr-attrs dt:hover span {\n  display: inline-block;\n  background: var(--xr-background-color);\n  padding-right: 10px;\n}\n\n.xr-attrs dd {\n  grid-column: 2;\n  white-space: pre-wrap;\n  word-break: break-all;\n}\n\n.xr-icon-database,\n.xr-icon-file-text2 {\n  display: inline-block;\n  vertical-align: middle;\n  width: 1em;\n  height: 1.5em !important;\n  stroke-width: 0;\n  stroke: currentColor;\n  fill: currentColor;\n}\n</style><pre class='xr-text-repr-fallback'>&lt;xarray.DataArray &#x27;mass&#x27; (time: 100)&gt;\narray([5.162182, 5.794285, 5.311215, 5.528533, 5.165649, 5.601982, 5.262971,\n       5.654079, 5.689215, 5.748152, 5.450542, 5.083821, 5.228977, 5.913337,\n       5.152378, 5.825817, 5.538342, 5.996135, 5.078176, 5.442678, 5.106653,\n       5.961898, 5.004634, 5.77491 , 5.817303, 5.868695, 5.084436, 5.399783,\n       5.25987 , 5.800068, 5.431414, 5.910648, 5.181847, 5.263803, 5.145539,\n       5.136069, 5.869292, 5.579705, 5.54986 , 5.144955, 5.853031, 5.622055,\n       5.350952, 5.51325 , 5.401808, 5.075967, 5.239916, 5.123319, 5.183908,\n       5.239953, 5.417267, 5.049654, 5.902716, 5.944787, 5.490864, 5.489253,\n       5.337719, 5.900054, 5.369247, 5.111203, 5.780252, 5.389739, 5.241691,\n       5.403912, 5.096455, 5.131973, 5.942051, 5.956135, 5.575209, 5.05978 ,\n       5.23478 , 5.353159, 5.821194, 5.015403, 5.043024, 5.16899 , 5.649115,\n       5.731722, 5.647746, 5.450924, 5.547009, 5.296321, 5.744693, 5.188955,\n       5.686775, 5.183511, 5.368485, 5.625619, 5.780227, 5.081126, 5.929386,\n       5.775713, 5.486792, 5.435859, 5.446784, 5.306349, 5.508509, 5.510772,\n       5.817628, 5.794831])\nCoordinates:\n  * time     (time) datetime64[ns] 2021-06-10T13:33:46.100000 ... 2021-06-10T...\nAttributes:\n    long_name:           mass\n    description:         mass of the substance at the time\n    standard_name:       mass\n    units:               mg\n    correctionsapplied:  added 5 because why not</pre><div class='xr-wrap' hidden><div class='xr-header'><div class='xr-obj-type'>xarray.DataArray</div><div class='xr-array-name'>'mass'</div><ul class='xr-dim-list'><li><span class='xr-has-index'>time</span>: 100</li></ul></div><ul class='xr-sections'><li class='xr-section-item'><div class='xr-array-wrap'><input id='section-ad7e53da-e708-4d2b-b5a2-27718babf3dc' class='xr-array-in' type='checkbox' checked><label for='section-ad7e53da-e708-4d2b-b5a2-27718babf3dc' title='Show/hide data repr'><svg class='icon xr-icon-database'><use xlink:href='#icon-database'></use></svg></label><div class='xr-array-preview xr-preview'><span>5.162 5.794 5.311 5.529 5.166 5.602 ... 5.306 5.509 5.511 5.818 5.795</span></div><div class='xr-array-data'><pre>array([5.162182, 5.794285, 5.311215, 5.528533, 5.165649, 5.601982, 5.262971,\n       5.654079, 5.689215, 5.748152, 5.450542, 5.083821, 5.228977, 5.913337,\n       5.152378, 5.825817, 5.538342, 5.996135, 5.078176, 5.442678, 5.106653,\n       5.961898, 5.004634, 5.77491 , 5.817303, 5.868695, 5.084436, 5.399783,\n       5.25987 , 5.800068, 5.431414, 5.910648, 5.181847, 5.263803, 5.145539,\n       5.136069, 5.869292, 5.579705, 5.54986 , 5.144955, 5.853031, 5.622055,\n       5.350952, 5.51325 , 5.401808, 5.075967, 5.239916, 5.123319, 5.183908,\n       5.239953, 5.417267, 5.049654, 5.902716, 5.944787, 5.490864, 5.489253,\n       5.337719, 5.900054, 5.369247, 5.111203, 5.780252, 5.389739, 5.241691,\n       5.403912, 5.096455, 5.131973, 5.942051, 5.956135, 5.575209, 5.05978 ,\n       5.23478 , 5.353159, 5.821194, 5.015403, 5.043024, 5.16899 , 5.649115,\n       5.731722, 5.647746, 5.450924, 5.547009, 5.296321, 5.744693, 5.188955,\n       5.686775, 5.183511, 5.368485, 5.625619, 5.780227, 5.081126, 5.929386,\n       5.775713, 5.486792, 5.435859, 5.446784, 5.306349, 5.508509, 5.510772,\n       5.817628, 5.794831])</pre></div></div></li><li class='xr-section-item'><input id='section-6cd43e1c-3a34-42f2-a4c7-79bea6e18b9b' class='xr-section-summary-in' type='checkbox'  checked><label for='section-6cd43e1c-3a34-42f2-a4c7-79bea6e18b9b' class='xr-section-summary' >Coordinates: <span>(1)</span></label><div class='xr-section-inline-details'></div><div class='xr-section-details'><ul class='xr-var-list'><li class='xr-var-item'><div class='xr-var-name'><span class='xr-has-index'>time</span></div><div class='xr-var-dims'>(time)</div><div class='xr-var-dtype'>datetime64[ns]</div><div class='xr-var-preview xr-preview'>2021-06-10T13:33:46.100000 ... 2...</div><input id='attrs-4699de6f-ed5a-4f3e-affb-0574b63d40ab' class='xr-var-attrs-in' type='checkbox' ><label for='attrs-4699de6f-ed5a-4f3e-affb-0574b63d40ab' title='Show/Hide attributes'><svg class='icon xr-icon-file-text2'><use xlink:href='#icon-file-text2'></use></svg></label><input id='data-3fe91dd0-2ec3-42be-9845-ffe387e22607' class='xr-var-data-in' type='checkbox'><label for='data-3fe91dd0-2ec3-42be-9845-ffe387e22607' title='Show/Hide data repr'><svg class='icon xr-icon-database'><use xlink:href='#icon-database'></use></svg></label><div class='xr-var-attrs'><dl class='xr-attrs'><dt><span>long_name :</span></dt><dd>Time (UTC)</dd><dt><span>standard_name :</span></dt><dd>time</dd></dl></div><div class='xr-var-data'><pre>array([&#x27;2021-06-10T13:33:46.100000000&#x27;, &#x27;2021-06-10T13:33:46.211000064&#x27;,\n       &#x27;2021-06-10T13:33:46.320999936&#x27;, &#x27;2021-06-10T13:33:46.444000000&#x27;,\n       &#x27;2021-06-10T13:33:46.560000000&#x27;, &#x27;2021-06-10T13:33:46.675000064&#x27;,\n       &#x27;2021-06-10T13:33:46.791000064&#x27;, &#x27;2021-06-10T13:33:46.912000000&#x27;,\n       &#x27;2021-06-10T13:33:47.016999936&#x27;, &#x27;2021-06-10T13:33:47.123000064&#x27;,\n       &#x27;2021-06-10T13:33:47.223000064&#x27;, &#x27;2021-06-10T13:33:47.323000064&#x27;,\n       &#x27;2021-06-10T13:33:47.448999936&#x27;, &#x27;2021-06-10T13:33:47.553999872&#x27;,\n       &#x27;2021-06-10T13:33:47.660999936&#x27;, &#x27;2021-06-10T13:33:47.760999936&#x27;,\n       &#x27;2021-06-10T13:33:47.860999936&#x27;, &#x27;2021-06-10T13:33:47.976999936&#x27;,\n       &#x27;2021-06-10T13:33:48.092999936&#x27;, &#x27;2021-06-10T13:33:48.203000064&#x27;,\n       &#x27;2021-06-10T13:33:48.308999936&#x27;, &#x27;2021-06-10T13:33:48.408999936&#x27;,\n       &#x27;2021-06-10T13:33:48.524000000&#x27;, &#x27;2021-06-10T13:33:48.646000128&#x27;,\n       &#x27;2021-06-10T13:33:48.761999872&#x27;, &#x27;2021-06-10T13:33:48.863000064&#x27;,\n       &#x27;2021-06-10T13:33:48.979000064&#x27;, &#x27;2021-06-10T13:33:49.083000064&#x27;,\n       &#x27;2021-06-10T13:33:49.195000064&#x27;, &#x27;2021-06-10T13:33:49.310000128&#x27;,\n       &#x27;2021-06-10T13:33:49.420999936&#x27;, &#x27;2021-06-10T13:33:49.548999936&#x27;,\n       &#x27;2021-06-10T13:33:49.648999936&#x27;, &#x27;2021-06-10T13:33:49.764999936&#x27;,\n       &#x27;2021-06-10T13:33:49.864999936&#x27;, &#x27;2021-06-10T13:33:49.975000064&#x27;,\n       &#x27;2021-06-10T13:33:50.080999936&#x27;, &#x27;2021-06-10T13:33:50.196999936&#x27;,\n       &#x27;2021-06-10T13:33:50.312999936&#x27;, &#x27;2021-06-10T13:33:50.428999936&#x27;,\n       &#x27;2021-06-10T13:33:50.551000064&#x27;, &#x27;2021-06-10T13:33:50.667000064&#x27;,\n       &#x27;2021-06-10T13:33:50.767000064&#x27;, &#x27;2021-06-10T13:33:50.868000000&#x27;,\n       &#x27;2021-06-10T13:33:50.982000128&#x27;, &#x27;2021-06-10T13:33:51.097999872&#x27;,\n       &#x27;2021-06-10T13:33:51.208999936&#x27;, &#x27;2021-06-10T13:33:51.313999872&#x27;,\n       &#x27;2021-06-10T13:33:51.430000128&#x27;, &#x27;2021-06-10T13:33:51.552999936&#x27;,\n       &#x27;2021-06-10T13:33:51.652999936&#x27;, &#x27;2021-06-10T13:33:51.768999936&#x27;,\n       &#x27;2021-06-10T13:33:51.868999936&#x27;, &#x27;2021-06-10T13:33:51.968999936&#x27;,\n       &#x27;2021-06-10T13:33:52.084999936&#x27;, &#x27;2021-06-10T13:33:52.184999936&#x27;,\n       &#x27;2021-06-10T13:33:52.300999936&#x27;, &#x27;2021-06-10T13:33:52.404999936&#x27;,\n       &#x27;2021-06-10T13:33:52.511000064&#x27;, &#x27;2021-06-10T13:33:52.616000000&#x27;,\n       &#x27;2021-06-10T13:33:52.735000064&#x27;, &#x27;2021-06-10T13:33:52.855000064&#x27;,\n       &#x27;2021-06-10T13:33:52.975000064&#x27;, &#x27;2021-06-10T13:33:53.084999936&#x27;,\n       &#x27;2021-06-10T13:33:53.204999936&#x27;, &#x27;2021-06-10T13:33:53.324999936&#x27;,\n       &#x27;2021-06-10T13:33:53.444999936&#x27;, &#x27;2021-06-10T13:33:53.544999936&#x27;,\n       &#x27;2021-06-10T13:33:53.649999872&#x27;, &#x27;2021-06-10T13:33:53.755000064&#x27;,\n       &#x27;2021-06-10T13:33:53.864999936&#x27;, &#x27;2021-06-10T13:33:53.984999936&#x27;,\n       &#x27;2021-06-10T13:33:54.084999936&#x27;, &#x27;2021-06-10T13:33:54.196999936&#x27;,\n       &#x27;2021-06-10T13:33:54.315000064&#x27;, &#x27;2021-06-10T13:33:54.436000000&#x27;,\n       &#x27;2021-06-10T13:33:54.556000000&#x27;, &#x27;2021-06-10T13:33:54.676000000&#x27;,\n       &#x27;2021-06-10T13:33:54.791000064&#x27;, &#x27;2021-06-10T13:33:54.894000128&#x27;,\n       &#x27;2021-06-10T13:33:54.995000064&#x27;, &#x27;2021-06-10T13:33:55.112000000&#x27;,\n       &#x27;2021-06-10T13:33:55.232000000&#x27;, &#x27;2021-06-10T13:33:55.348000000&#x27;,\n       &#x27;2021-06-10T13:33:55.467000064&#x27;, &#x27;2021-06-10T13:33:55.579000064&#x27;,\n       &#x27;2021-06-10T13:33:55.695000064&#x27;, &#x27;2021-06-10T13:33:55.796999936&#x27;,\n       &#x27;2021-06-10T13:33:55.912000000&#x27;, &#x27;2021-06-10T13:33:56.032999936&#x27;,\n       &#x27;2021-06-10T13:33:56.148999936&#x27;, &#x27;2021-06-10T13:33:56.249999872&#x27;,\n       &#x27;2021-06-10T13:33:56.364999936&#x27;, &#x27;2021-06-10T13:33:56.480999936&#x27;,\n       &#x27;2021-06-10T13:33:56.596999936&#x27;, &#x27;2021-06-10T13:33:56.696999936&#x27;,\n       &#x27;2021-06-10T13:33:56.796999936&#x27;, &#x27;2021-06-10T13:33:56.897999872&#x27;,\n       &#x27;2021-06-10T13:33:56.998000128&#x27;, &#x27;2021-06-10T13:33:57.099000064&#x27;],\n      dtype=&#x27;datetime64[ns]&#x27;)</pre></div></li></ul></div></li><li class='xr-section-item'><input id='section-e532f673-c305-40ed-b70c-ec7c13098b86' class='xr-section-summary-in' type='checkbox'  checked><label for='section-e532f673-c305-40ed-b70c-ec7c13098b86' class='xr-section-summary' >Attributes: <span>(5)</span></label><div class='xr-section-inline-details'></div><div class='xr-section-details'><dl class='xr-attrs'><dt><span>long_name :</span></dt><dd>mass</dd><dt><span>description :</span></dt><dd>mass of the substance at the time</dd><dt><span>standard_name :</span></dt><dd>mass</dd><dt><span>units :</span></dt><dd>mg</dd><dt><span>correctionsapplied :</span></dt><dd>added 5 because why not</dd></dl></div></li></ul></div></div>"
     },
     "metadata": {},
     "execution_count": 32
    }
   ],
   "source": [
    "dataset['mass']"
   ]
  }
 ]
}