{
 "metadata": {
  "language_info": {
   "codemirror_mode": {
    "name": "ipython",
    "version": 3
   },
   "file_extension": ".py",
   "mimetype": "text/x-python",
   "name": "python",
   "nbconvert_exporter": "python",
   "pygments_lexer": "ipython3",
   "version": "3.8.8"
  },
  "orig_nbformat": 4,
  "kernelspec": {
   "name": "python3",
   "display_name": "Python 3.8.8 64-bit ('base': conda)"
  },
  "interpreter": {
   "hash": "71031183235e2034b79c88f52d6d08538b0878082f2693f18429085641930c4c"
  }
 },
 "nbformat": 4,
 "nbformat_minor": 2,
 "cells": [
  {
   "cell_type": "code",
   "execution_count": 2,
   "metadata": {},
   "outputs": [],
   "source": [
    "import xarray as xr\n",
    "import glob\n",
    "import os\n",
    "from matplotlib import pyplot as plt\n",
    "from tsdat.utils import DSUtil\n"
   ]
  },
  {
   "cell_type": "code",
   "execution_count": 6,
   "metadata": {},
   "outputs": [
    {
     "output_type": "execute_result",
     "data": {
      "text/plain": [
       "['C:\\\\Users\\\\cott878\\\\OneDrive - PNNL\\\\Documents\\\\Projects\\\\Sequim Data LDRD\\\\tsdat_local\\\\storage\\\\root\\\\myhouse2\\\\myhouse2.noisynoise-matlab-10Hz.a1\\\\myhouse2.noisynoise-matlab-10Hz.a1.20210610.133346.nc',\n",
       " 'C:\\\\Users\\\\cott878\\\\OneDrive - PNNL\\\\Documents\\\\Projects\\\\Sequim Data LDRD\\\\tsdat_local\\\\storage\\\\root\\\\myhouse2\\\\myhouse2.noisynoise-matlab-10Hz.a1\\\\myhouse2.noisynoise-matlab-10Hz.a1.20210611.092723.nc']"
      ]
     },
     "metadata": {},
     "execution_count": 6
    }
   ],
   "source": [
    "folder = r'C:\\Users\\cott878\\OneDrive - PNNL\\Documents\\Projects\\Sequim Data LDRD\\tsdat_local\\storage\\root\\myhouse2\\myhouse2.noisynoise-matlab-10Hz.a1'\n",
    "files = glob.glob(os.path.join(folder,'*.nc'))\n",
    "files"
   ]
  },
  {
   "cell_type": "code",
   "execution_count": 7,
   "metadata": {},
   "outputs": [],
   "source": [
    "dataset = xr.open_dataset(files[1])"
   ]
  },
  {
   "cell_type": "code",
   "execution_count": 8,
   "metadata": {},
   "outputs": [
    {
     "output_type": "execute_result",
     "data": {
      "text/plain": [
       "<xarray.DataArray 'mass' (time: 100)>\n",
       "array([5.644318, 5.378609, 5.81158 , 5.532826, 5.350727, 5.939002, 5.875943,\n",
       "       5.550156, 5.622475, 5.587045, 5.207742, 5.301246, 5.470923, 5.230488,\n",
       "       5.844309, 5.194764, 5.225922, 5.170708, 5.227664, 5.435699, 5.311102,\n",
       "       5.92338 , 5.430207, 5.184816, 5.904881, 5.979748, 5.43887 , 5.111119,\n",
       "       5.258065, 5.40872 , 5.594896, 5.262212, 5.602843, 5.711216, 5.221747,\n",
       "       5.117418, 5.296676, 5.318778, 5.424167, 5.507858, 5.085516, 5.262482,\n",
       "       5.801015, 5.02922 , 5.928854, 5.730331, 5.488609, 5.578525, 5.237284,\n",
       "       5.458849, 5.963089,      nan, 5.546806, 5.521136, 5.231594, 5.488898,\n",
       "       5.62406 , 5.679136, 5.395515, 5.367437, 5.987982, 5.037739, 5.885168,\n",
       "       5.913287, 5.796184, 5.098712, 5.261871, 5.335357, 5.679728, 5.136553,\n",
       "       5.721227, 5.106762, 5.653757, 5.494174, 5.779052, 5.715037, 5.903721,\n",
       "       5.890923, 5.334163, 5.698746, 5.19781 , 5.030541, 5.744074, 5.500022,\n",
       "       5.479922, 5.904722, 5.609867, 5.617666, 5.859442, 5.805489, 5.576722,\n",
       "       5.182922, 5.239932, 5.886512, 5.028674, 5.489901, 5.167927, 5.978681,\n",
       "       5.712694, 5.500472])\n",
       "Coordinates:\n",
       "  * time     (time) datetime64[ns] 2021-06-11T09:27:23.945999872 ... 2021-06-...\n",
       "Attributes:\n",
       "    long_name:           mass\n",
       "    description:         mass of the substance at the time\n",
       "    standard_name:       mass\n",
       "    units:               mg\n",
       "    correctionsapplied:  added 5 because why not"
      ],
      "text/html": "<div><svg style=\"position: absolute; width: 0; height: 0; overflow: hidden\">\n<defs>\n<symbol id=\"icon-database\" viewBox=\"0 0 32 32\">\n<path d=\"M16 0c-8.837 0-16 2.239-16 5v4c0 2.761 7.163 5 16 5s16-2.239 16-5v-4c0-2.761-7.163-5-16-5z\"></path>\n<path d=\"M16 17c-8.837 0-16-2.239-16-5v6c0 2.761 7.163 5 16 5s16-2.239 16-5v-6c0 2.761-7.163 5-16 5z\"></path>\n<path d=\"M16 26c-8.837 0-16-2.239-16-5v6c0 2.761 7.163 5 16 5s16-2.239 16-5v-6c0 2.761-7.163 5-16 5z\"></path>\n</symbol>\n<symbol id=\"icon-file-text2\" viewBox=\"0 0 32 32\">\n<path d=\"M28.681 7.159c-0.694-0.947-1.662-2.053-2.724-3.116s-2.169-2.030-3.116-2.724c-1.612-1.182-2.393-1.319-2.841-1.319h-15.5c-1.378 0-2.5 1.121-2.5 2.5v27c0 1.378 1.122 2.5 2.5 2.5h23c1.378 0 2.5-1.122 2.5-2.5v-19.5c0-0.448-0.137-1.23-1.319-2.841zM24.543 5.457c0.959 0.959 1.712 1.825 2.268 2.543h-4.811v-4.811c0.718 0.556 1.584 1.309 2.543 2.268zM28 29.5c0 0.271-0.229 0.5-0.5 0.5h-23c-0.271 0-0.5-0.229-0.5-0.5v-27c0-0.271 0.229-0.5 0.5-0.5 0 0 15.499-0 15.5 0v7c0 0.552 0.448 1 1 1h7v19.5z\"></path>\n<path d=\"M23 26h-14c-0.552 0-1-0.448-1-1s0.448-1 1-1h14c0.552 0 1 0.448 1 1s-0.448 1-1 1z\"></path>\n<path d=\"M23 22h-14c-0.552 0-1-0.448-1-1s0.448-1 1-1h14c0.552 0 1 0.448 1 1s-0.448 1-1 1z\"></path>\n<path d=\"M23 18h-14c-0.552 0-1-0.448-1-1s0.448-1 1-1h14c0.552 0 1 0.448 1 1s-0.448 1-1 1z\"></path>\n</symbol>\n</defs>\n</svg>\n<style>/* CSS stylesheet for displaying xarray objects in jupyterlab.\n *\n */\n\n:root {\n  --xr-font-color0: var(--jp-content-font-color0, rgba(0, 0, 0, 1));\n  --xr-font-color2: var(--jp-content-font-color2, rgba(0, 0, 0, 0.54));\n  --xr-font-color3: var(--jp-content-font-color3, rgba(0, 0, 0, 0.38));\n  --xr-border-color: var(--jp-border-color2, #e0e0e0);\n  --xr-disabled-color: var(--jp-layout-color3, #bdbdbd);\n  --xr-background-color: var(--jp-layout-color0, white);\n  --xr-background-color-row-even: var(--jp-layout-color1, white);\n  --xr-background-color-row-odd: var(--jp-layout-color2, #eeeeee);\n}\n\nhtml[theme=dark],\nbody.vscode-dark {\n  --xr-font-color0: rgba(255, 255, 255, 1);\n  --xr-font-color2: rgba(255, 255, 255, 0.54);\n  --xr-font-color3: rgba(255, 255, 255, 0.38);\n  --xr-border-color: #1F1F1F;\n  --xr-disabled-color: #515151;\n  --xr-background-color: #111111;\n  --xr-background-color-row-even: #111111;\n  --xr-background-color-row-odd: #313131;\n}\n\n.xr-wrap {\n  display: block;\n  min-width: 300px;\n  max-width: 700px;\n}\n\n.xr-text-repr-fallback {\n  /* fallback to plain text repr when CSS is not injected (untrusted notebook) */\n  display: none;\n}\n\n.xr-header {\n  padding-top: 6px;\n  padding-bottom: 6px;\n  margin-bottom: 4px;\n  border-bottom: solid 1px var(--xr-border-color);\n}\n\n.xr-header > div,\n.xr-header > ul {\n  display: inline;\n  margin-top: 0;\n  margin-bottom: 0;\n}\n\n.xr-obj-type,\n.xr-array-name {\n  margin-left: 2px;\n  margin-right: 10px;\n}\n\n.xr-obj-type {\n  color: var(--xr-font-color2);\n}\n\n.xr-sections {\n  padding-left: 0 !important;\n  display: grid;\n  grid-template-columns: 150px auto auto 1fr 20px 20px;\n}\n\n.xr-section-item {\n  display: contents;\n}\n\n.xr-section-item input {\n  display: none;\n}\n\n.xr-section-item input + label {\n  color: var(--xr-disabled-color);\n}\n\n.xr-section-item input:enabled + label {\n  cursor: pointer;\n  color: var(--xr-font-color2);\n}\n\n.xr-section-item input:enabled + label:hover {\n  color: var(--xr-font-color0);\n}\n\n.xr-section-summary {\n  grid-column: 1;\n  color: var(--xr-font-color2);\n  font-weight: 500;\n}\n\n.xr-section-summary > span {\n  display: inline-block;\n  padding-left: 0.5em;\n}\n\n.xr-section-summary-in:disabled + label {\n  color: var(--xr-font-color2);\n}\n\n.xr-section-summary-in + label:before {\n  display: inline-block;\n  content: '►';\n  font-size: 11px;\n  width: 15px;\n  text-align: center;\n}\n\n.xr-section-summary-in:disabled + label:before {\n  color: var(--xr-disabled-color);\n}\n\n.xr-section-summary-in:checked + label:before {\n  content: '▼';\n}\n\n.xr-section-summary-in:checked + label > span {\n  display: none;\n}\n\n.xr-section-summary,\n.xr-section-inline-details {\n  padding-top: 4px;\n  padding-bottom: 4px;\n}\n\n.xr-section-inline-details {\n  grid-column: 2 / -1;\n}\n\n.xr-section-details {\n  display: none;\n  grid-column: 1 / -1;\n  margin-bottom: 5px;\n}\n\n.xr-section-summary-in:checked ~ .xr-section-details {\n  display: contents;\n}\n\n.xr-array-wrap {\n  grid-column: 1 / -1;\n  display: grid;\n  grid-template-columns: 20px auto;\n}\n\n.xr-array-wrap > label {\n  grid-column: 1;\n  vertical-align: top;\n}\n\n.xr-preview {\n  color: var(--xr-font-color3);\n}\n\n.xr-array-preview,\n.xr-array-data {\n  padding: 0 5px !important;\n  grid-column: 2;\n}\n\n.xr-array-data,\n.xr-array-in:checked ~ .xr-array-preview {\n  display: none;\n}\n\n.xr-array-in:checked ~ .xr-array-data,\n.xr-array-preview {\n  display: inline-block;\n}\n\n.xr-dim-list {\n  display: inline-block !important;\n  list-style: none;\n  padding: 0 !important;\n  margin: 0;\n}\n\n.xr-dim-list li {\n  display: inline-block;\n  padding: 0;\n  margin: 0;\n}\n\n.xr-dim-list:before {\n  content: '(';\n}\n\n.xr-dim-list:after {\n  content: ')';\n}\n\n.xr-dim-list li:not(:last-child):after {\n  content: ',';\n  padding-right: 5px;\n}\n\n.xr-has-index {\n  font-weight: bold;\n}\n\n.xr-var-list,\n.xr-var-item {\n  display: contents;\n}\n\n.xr-var-item > div,\n.xr-var-item label,\n.xr-var-item > .xr-var-name span {\n  background-color: var(--xr-background-color-row-even);\n  margin-bottom: 0;\n}\n\n.xr-var-item > .xr-var-name:hover span {\n  padding-right: 5px;\n}\n\n.xr-var-list > li:nth-child(odd) > div,\n.xr-var-list > li:nth-child(odd) > label,\n.xr-var-list > li:nth-child(odd) > .xr-var-name span {\n  background-color: var(--xr-background-color-row-odd);\n}\n\n.xr-var-name {\n  grid-column: 1;\n}\n\n.xr-var-dims {\n  grid-column: 2;\n}\n\n.xr-var-dtype {\n  grid-column: 3;\n  text-align: right;\n  color: var(--xr-font-color2);\n}\n\n.xr-var-preview {\n  grid-column: 4;\n}\n\n.xr-var-name,\n.xr-var-dims,\n.xr-var-dtype,\n.xr-preview,\n.xr-attrs dt {\n  white-space: nowrap;\n  overflow: hidden;\n  text-overflow: ellipsis;\n  padding-right: 10px;\n}\n\n.xr-var-name:hover,\n.xr-var-dims:hover,\n.xr-var-dtype:hover,\n.xr-attrs dt:hover {\n  overflow: visible;\n  width: auto;\n  z-index: 1;\n}\n\n.xr-var-attrs,\n.xr-var-data {\n  display: none;\n  background-color: var(--xr-background-color) !important;\n  padding-bottom: 5px !important;\n}\n\n.xr-var-attrs-in:checked ~ .xr-var-attrs,\n.xr-var-data-in:checked ~ .xr-var-data {\n  display: block;\n}\n\n.xr-var-data > table {\n  float: right;\n}\n\n.xr-var-name span,\n.xr-var-data,\n.xr-attrs {\n  padding-left: 25px !important;\n}\n\n.xr-attrs,\n.xr-var-attrs,\n.xr-var-data {\n  grid-column: 1 / -1;\n}\n\ndl.xr-attrs {\n  padding: 0;\n  margin: 0;\n  display: grid;\n  grid-template-columns: 125px auto;\n}\n\n.xr-attrs dt,\n.xr-attrs dd {\n  padding: 0;\n  margin: 0;\n  float: left;\n  padding-right: 10px;\n  width: auto;\n}\n\n.xr-attrs dt {\n  font-weight: normal;\n  grid-column: 1;\n}\n\n.xr-attrs dt:hover span {\n  display: inline-block;\n  background: var(--xr-background-color);\n  padding-right: 10px;\n}\n\n.xr-attrs dd {\n  grid-column: 2;\n  white-space: pre-wrap;\n  word-break: break-all;\n}\n\n.xr-icon-database,\n.xr-icon-file-text2 {\n  display: inline-block;\n  vertical-align: middle;\n  width: 1em;\n  height: 1.5em !important;\n  stroke-width: 0;\n  stroke: currentColor;\n  fill: currentColor;\n}\n</style><pre class='xr-text-repr-fallback'>&lt;xarray.DataArray &#x27;mass&#x27; (time: 100)&gt;\narray([5.644318, 5.378609, 5.81158 , 5.532826, 5.350727, 5.939002, 5.875943,\n       5.550156, 5.622475, 5.587045, 5.207742, 5.301246, 5.470923, 5.230488,\n       5.844309, 5.194764, 5.225922, 5.170708, 5.227664, 5.435699, 5.311102,\n       5.92338 , 5.430207, 5.184816, 5.904881, 5.979748, 5.43887 , 5.111119,\n       5.258065, 5.40872 , 5.594896, 5.262212, 5.602843, 5.711216, 5.221747,\n       5.117418, 5.296676, 5.318778, 5.424167, 5.507858, 5.085516, 5.262482,\n       5.801015, 5.02922 , 5.928854, 5.730331, 5.488609, 5.578525, 5.237284,\n       5.458849, 5.963089,      nan, 5.546806, 5.521136, 5.231594, 5.488898,\n       5.62406 , 5.679136, 5.395515, 5.367437, 5.987982, 5.037739, 5.885168,\n       5.913287, 5.796184, 5.098712, 5.261871, 5.335357, 5.679728, 5.136553,\n       5.721227, 5.106762, 5.653757, 5.494174, 5.779052, 5.715037, 5.903721,\n       5.890923, 5.334163, 5.698746, 5.19781 , 5.030541, 5.744074, 5.500022,\n       5.479922, 5.904722, 5.609867, 5.617666, 5.859442, 5.805489, 5.576722,\n       5.182922, 5.239932, 5.886512, 5.028674, 5.489901, 5.167927, 5.978681,\n       5.712694, 5.500472])\nCoordinates:\n  * time     (time) datetime64[ns] 2021-06-11T09:27:23.945999872 ... 2021-06-...\nAttributes:\n    long_name:           mass\n    description:         mass of the substance at the time\n    standard_name:       mass\n    units:               mg\n    correctionsapplied:  added 5 because why not</pre><div class='xr-wrap' hidden><div class='xr-header'><div class='xr-obj-type'>xarray.DataArray</div><div class='xr-array-name'>'mass'</div><ul class='xr-dim-list'><li><span class='xr-has-index'>time</span>: 100</li></ul></div><ul class='xr-sections'><li class='xr-section-item'><div class='xr-array-wrap'><input id='section-2787c4ed-dc2f-406a-a791-961f5f7532cc' class='xr-array-in' type='checkbox' checked><label for='section-2787c4ed-dc2f-406a-a791-961f5f7532cc' title='Show/hide data repr'><svg class='icon xr-icon-database'><use xlink:href='#icon-database'></use></svg></label><div class='xr-array-preview xr-preview'><span>5.644 5.379 5.812 5.533 5.351 5.939 ... 5.49 5.168 5.979 5.713 5.5</span></div><div class='xr-array-data'><pre>array([5.644318, 5.378609, 5.81158 , 5.532826, 5.350727, 5.939002, 5.875943,\n       5.550156, 5.622475, 5.587045, 5.207742, 5.301246, 5.470923, 5.230488,\n       5.844309, 5.194764, 5.225922, 5.170708, 5.227664, 5.435699, 5.311102,\n       5.92338 , 5.430207, 5.184816, 5.904881, 5.979748, 5.43887 , 5.111119,\n       5.258065, 5.40872 , 5.594896, 5.262212, 5.602843, 5.711216, 5.221747,\n       5.117418, 5.296676, 5.318778, 5.424167, 5.507858, 5.085516, 5.262482,\n       5.801015, 5.02922 , 5.928854, 5.730331, 5.488609, 5.578525, 5.237284,\n       5.458849, 5.963089,      nan, 5.546806, 5.521136, 5.231594, 5.488898,\n       5.62406 , 5.679136, 5.395515, 5.367437, 5.987982, 5.037739, 5.885168,\n       5.913287, 5.796184, 5.098712, 5.261871, 5.335357, 5.679728, 5.136553,\n       5.721227, 5.106762, 5.653757, 5.494174, 5.779052, 5.715037, 5.903721,\n       5.890923, 5.334163, 5.698746, 5.19781 , 5.030541, 5.744074, 5.500022,\n       5.479922, 5.904722, 5.609867, 5.617666, 5.859442, 5.805489, 5.576722,\n       5.182922, 5.239932, 5.886512, 5.028674, 5.489901, 5.167927, 5.978681,\n       5.712694, 5.500472])</pre></div></div></li><li class='xr-section-item'><input id='section-00532291-21ef-434b-8b55-0b5cf71da775' class='xr-section-summary-in' type='checkbox'  checked><label for='section-00532291-21ef-434b-8b55-0b5cf71da775' class='xr-section-summary' >Coordinates: <span>(1)</span></label><div class='xr-section-inline-details'></div><div class='xr-section-details'><ul class='xr-var-list'><li class='xr-var-item'><div class='xr-var-name'><span class='xr-has-index'>time</span></div><div class='xr-var-dims'>(time)</div><div class='xr-var-dtype'>datetime64[ns]</div><div class='xr-var-preview xr-preview'>2021-06-11T09:27:23.945999872 .....</div><input id='attrs-5eb65b03-e5da-4044-8206-3195e3cdb144' class='xr-var-attrs-in' type='checkbox' ><label for='attrs-5eb65b03-e5da-4044-8206-3195e3cdb144' title='Show/Hide attributes'><svg class='icon xr-icon-file-text2'><use xlink:href='#icon-file-text2'></use></svg></label><input id='data-e546a16e-027e-4650-95dd-24275d14b24e' class='xr-var-data-in' type='checkbox'><label for='data-e546a16e-027e-4650-95dd-24275d14b24e' title='Show/Hide data repr'><svg class='icon xr-icon-database'><use xlink:href='#icon-database'></use></svg></label><div class='xr-var-attrs'><dl class='xr-attrs'><dt><span>long_name :</span></dt><dd>Time (UTC)</dd><dt><span>standard_name :</span></dt><dd>time</dd></dl></div><div class='xr-var-data'><pre>array([&#x27;2021-06-11T09:27:23.945999872&#x27;, &#x27;2021-06-11T09:27:24.084000000&#x27;,\n       &#x27;2021-06-11T09:27:24.211000064&#x27;, &#x27;2021-06-11T09:27:24.327000064&#x27;,\n       &#x27;2021-06-11T09:27:24.428000000&#x27;, &#x27;2021-06-11T09:27:24.542000128&#x27;,\n       &#x27;2021-06-11T09:27:24.657999872&#x27;, &#x27;2021-06-11T09:27:24.758000128&#x27;,\n       &#x27;2021-06-11T09:27:24.873999872&#x27;, &#x27;2021-06-11T09:27:24.974000128&#x27;,\n       &#x27;2021-06-11T09:27:25.086000128&#x27;, &#x27;2021-06-11T09:27:25.212999936&#x27;,\n       &#x27;2021-06-11T09:27:25.328000000&#x27;, &#x27;2021-06-11T09:27:25.428000000&#x27;,\n       &#x27;2021-06-11T09:27:25.544000000&#x27;, &#x27;2021-06-11T09:27:25.644999936&#x27;,\n       &#x27;2021-06-11T09:27:25.760999936&#x27;, &#x27;2021-06-11T09:27:25.876000000&#x27;,\n       &#x27;2021-06-11T09:27:25.992000000&#x27;, &#x27;2021-06-11T09:27:26.113999872&#x27;,\n       &#x27;2021-06-11T09:27:26.231000064&#x27;, &#x27;2021-06-11T09:27:26.345999872&#x27;,\n       &#x27;2021-06-11T09:27:26.446000128&#x27;, &#x27;2021-06-11T09:27:26.561999872&#x27;,\n       &#x27;2021-06-11T09:27:26.663000064&#x27;, &#x27;2021-06-11T09:27:26.763000064&#x27;,\n       &#x27;2021-06-11T09:27:26.863000064&#x27;, &#x27;2021-06-11T09:27:26.979000064&#x27;,\n       &#x27;2021-06-11T09:27:27.089999872&#x27;, &#x27;2021-06-11T09:27:27.217999872&#x27;,\n       &#x27;2021-06-11T09:27:27.332999936&#x27;, &#x27;2021-06-11T09:27:27.448999936&#x27;,\n       &#x27;2021-06-11T09:27:27.564999936&#x27;, &#x27;2021-06-11T09:27:27.680999936&#x27;,\n       &#x27;2021-06-11T09:27:27.796999936&#x27;, &#x27;2021-06-11T09:27:27.896999936&#x27;,\n       &#x27;2021-06-11T09:27:28.019000064&#x27;, &#x27;2021-06-11T09:27:28.119000064&#x27;,\n       &#x27;2021-06-11T09:27:28.235000064&#x27;, &#x27;2021-06-11T09:27:28.336000000&#x27;,\n       &#x27;2021-06-11T09:27:28.452000000&#x27;, &#x27;2021-06-11T09:27:28.568000000&#x27;,\n       &#x27;2021-06-11T09:27:28.684000000&#x27;, &#x27;2021-06-11T09:27:28.800000000&#x27;,\n       &#x27;2021-06-11T09:27:28.900000000&#x27;, &#x27;2021-06-11T09:27:29.000000000&#x27;,\n       &#x27;2021-06-11T09:27:29.121999872&#x27;, &#x27;2021-06-11T09:27:29.238000128&#x27;,\n       &#x27;2021-06-11T09:27:29.353999872&#x27;, &#x27;2021-06-11T09:27:29.454000128&#x27;,\n       &#x27;2021-06-11T09:27:29.569999872&#x27;, &#x27;2021-06-11T09:27:29.686000128&#x27;,\n       &#x27;2021-06-11T09:27:29.801999872&#x27;, &#x27;2021-06-11T09:27:29.924000000&#x27;,\n       &#x27;2021-06-11T09:27:30.040000000&#x27;, &#x27;2021-06-11T09:27:30.151000064&#x27;,\n       &#x27;2021-06-11T09:27:30.256999936&#x27;, &#x27;2021-06-11T09:27:30.372000000&#x27;,\n       &#x27;2021-06-11T09:27:30.488000000&#x27;, &#x27;2021-06-11T09:27:30.604000000&#x27;,\n       &#x27;2021-06-11T09:27:30.726000128&#x27;, &#x27;2021-06-11T09:27:30.825999872&#x27;,\n       &#x27;2021-06-11T09:27:30.942000128&#x27;, &#x27;2021-06-11T09:27:31.056999936&#x27;,\n       &#x27;2021-06-11T09:27:31.158000128&#x27;, &#x27;2021-06-11T09:27:31.257999872&#x27;,\n       &#x27;2021-06-11T09:27:31.374000128&#x27;, &#x27;2021-06-11T09:27:31.488999936&#x27;,\n       &#x27;2021-06-11T09:27:31.604999936&#x27;, &#x27;2021-06-11T09:27:31.705999872&#x27;,\n       &#x27;2021-06-11T09:27:31.827000064&#x27;, &#x27;2021-06-11T09:27:31.943000064&#x27;,\n       &#x27;2021-06-11T09:27:32.043000064&#x27;, &#x27;2021-06-11T09:27:32.153999872&#x27;,\n       &#x27;2021-06-11T09:27:32.259000064&#x27;, &#x27;2021-06-11T09:27:32.375000064&#x27;,\n       &#x27;2021-06-11T09:27:32.489999872&#x27;, &#x27;2021-06-11T09:27:32.607000064&#x27;,\n       &#x27;2021-06-11T09:27:32.728000000&#x27;, &#x27;2021-06-11T09:27:32.828999936&#x27;,\n       &#x27;2021-06-11T09:27:32.932999936&#x27;, &#x27;2021-06-11T09:27:33.044999936&#x27;,\n       &#x27;2021-06-11T09:27:33.144999936&#x27;, &#x27;2021-06-11T09:27:33.244999936&#x27;,\n       &#x27;2021-06-11T09:27:33.360999936&#x27;, &#x27;2021-06-11T09:27:33.476999936&#x27;,\n       &#x27;2021-06-11T09:27:33.576999936&#x27;, &#x27;2021-06-11T09:27:33.692000000&#x27;,\n       &#x27;2021-06-11T09:27:33.808000000&#x27;, &#x27;2021-06-11T09:27:33.929999872&#x27;,\n       &#x27;2021-06-11T09:27:34.030000128&#x27;, &#x27;2021-06-11T09:27:34.156999936&#x27;,\n       &#x27;2021-06-11T09:27:34.262000128&#x27;, &#x27;2021-06-11T09:27:34.377999872&#x27;,\n       &#x27;2021-06-11T09:27:34.494000128&#x27;, &#x27;2021-06-11T09:27:34.593999872&#x27;,\n       &#x27;2021-06-11T09:27:34.710000128&#x27;, &#x27;2021-06-11T09:27:34.832000000&#x27;,\n       &#x27;2021-06-11T09:27:34.948000000&#x27;, &#x27;2021-06-11T09:27:35.064000000&#x27;],\n      dtype=&#x27;datetime64[ns]&#x27;)</pre></div></li></ul></div></li><li class='xr-section-item'><input id='section-5a55d203-2762-426f-9806-f135b9c14c4b' class='xr-section-summary-in' type='checkbox'  checked><label for='section-5a55d203-2762-426f-9806-f135b9c14c4b' class='xr-section-summary' >Attributes: <span>(5)</span></label><div class='xr-section-inline-details'></div><div class='xr-section-details'><dl class='xr-attrs'><dt><span>long_name :</span></dt><dd>mass</dd><dt><span>description :</span></dt><dd>mass of the substance at the time</dd><dt><span>standard_name :</span></dt><dd>mass</dd><dt><span>units :</span></dt><dd>mg</dd><dt><span>correctionsapplied :</span></dt><dd>added 5 because why not</dd></dl></div></li></ul></div></div>"
     },
     "metadata": {},
     "execution_count": 8
    }
   ],
   "source": [
    "dataset['mass']"
   ]
  }
 ]
}